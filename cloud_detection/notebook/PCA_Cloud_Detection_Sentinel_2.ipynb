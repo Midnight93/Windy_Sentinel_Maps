{
  "nbformat": 4,
  "nbformat_minor": 0,
  "metadata": {
    "colab": {
      "name": "PCA-Cloud_Detection_Sentinel_2.ipynb",
      "provenance": [],
      "machine_shape": "hm"
    },
    "kernelspec": {
      "name": "python3",
      "display_name": "Python 3"
    },
    "language_info": {
      "name": "python"
    },
    "accelerator": "GPU"
  },
  "cells": [
    {
      "cell_type": "code",
      "metadata": {
        "colab": {
          "base_uri": "https://localhost:8080/"
        },
        "id": "3P0-piXurKjD",
        "outputId": "a68f0242-be3d-4b52-e9c4-be437dfc1a58"
      },
      "source": [
        "!nvidia-smi"
      ],
      "execution_count": 16,
      "outputs": [
        {
          "output_type": "stream",
          "text": [
            "shell-init: error retrieving current directory: getcwd: cannot access parent directories: No such file or directory\n",
            "Fri Jul  9 09:50:21 2021       \n",
            "+-----------------------------------------------------------------------------+\n",
            "| NVIDIA-SMI 470.42.01    Driver Version: 460.32.03    CUDA Version: 11.2     |\n",
            "|-------------------------------+----------------------+----------------------+\n",
            "| GPU  Name        Persistence-M| Bus-Id        Disp.A | Volatile Uncorr. ECC |\n",
            "| Fan  Temp  Perf  Pwr:Usage/Cap|         Memory-Usage | GPU-Util  Compute M. |\n",
            "|                               |                      |               MIG M. |\n",
            "|===============================+======================+======================|\n",
            "|   0  Tesla P100-PCIE...  Off  | 00000000:00:04.0 Off |                    0 |\n",
            "| N/A   40C    P0    27W / 250W |      0MiB / 16280MiB |      0%      Default |\n",
            "|                               |                      |                  N/A |\n",
            "+-------------------------------+----------------------+----------------------+\n",
            "                                                                               \n",
            "+-----------------------------------------------------------------------------+\n",
            "| Processes:                                                                  |\n",
            "|  GPU   GI   CI        PID   Type   Process name                  GPU Memory |\n",
            "|        ID   ID                                                   Usage      |\n",
            "|=============================================================================|\n",
            "|  No running processes found                                                 |\n",
            "+-----------------------------------------------------------------------------+\n"
          ],
          "name": "stdout"
        }
      ]
    },
    {
      "cell_type": "code",
      "metadata": {
        "id": "gpdk03uMkVGG",
        "colab": {
          "base_uri": "https://localhost:8080/"
        },
        "outputId": "b2bd16bc-aadb-49b3-d5d6-b557c8b22503"
      },
      "source": [
        "!ls\n",
        "!unzip /content/pixel-data_60m.zip"
      ],
      "execution_count": 1,
      "outputs": [
        {
          "output_type": "stream",
          "text": [
            "pixel-data_60m.zip  sample_data\n",
            "Archive:  /content/pixel-data_60m.zip\n",
            "   creating: pixel_data/\n",
            "   creating: pixel_data/60m/\n",
            "  inflating: pixel_data/60m/PPM_A027431_60m.csv  \n",
            "  inflating: pixel_data/60m/PQM_A018880_20201017_60m.csv  \n",
            "  inflating: pixel_data/60m/PPM_A027145_20200902T081611_1_60m.csv  \n",
            "  inflating: pixel_data/60m/PQM_A018451_60m.csv  \n",
            "  inflating: pixel_data/60m/PNM_A027474_20200925T082711_60m.csv  \n",
            "  inflating: pixel_data/60m/PNL_A018780_20201010_60m.csv  \n"
          ],
          "name": "stdout"
        }
      ]
    },
    {
      "cell_type": "code",
      "metadata": {
        "colab": {
          "base_uri": "https://localhost:8080/"
        },
        "id": "zxXkz6ppx6ap",
        "outputId": "5f7acbb5-1855-4beb-d639-d7821c130eef"
      },
      "source": [
        "%cd /content/pixel_data/60m"
      ],
      "execution_count": 8,
      "outputs": [
        {
          "output_type": "stream",
          "text": [
            "/content/pixel_data/60m\n"
          ],
          "name": "stdout"
        }
      ]
    },
    {
      "cell_type": "code",
      "metadata": {
        "id": "pfDKX2yRh3XE"
      },
      "source": [
        "import tensorflow as tf\n",
        "import numpy as np\n",
        "import random\n",
        "import matplotlib.pyplot as plt\n",
        "import pandas as pd\n",
        "import gzip\n",
        "\n",
        "%matplotlib inline"
      ],
      "execution_count": 9,
      "outputs": []
    },
    {
      "cell_type": "code",
      "metadata": {
        "id": "WTW3tJgAiKvG",
        "colab": {
          "base_uri": "https://localhost:8080/"
        },
        "outputId": "0b903227-7ddf-4489-ad02-18ea2ada477e"
      },
      "source": [
        "# First satellite image\n",
        "with open('PNL_A018780_20201010_60m.csv', 'rb') as fd1:\n",
        "    gzip_fd1 = gzip.GzipFile(fileobj=fd1)\n",
        "    data1 = pd.read_csv(gzip_fd1)\n",
        "\n",
        "# Check print\n",
        "print(data1.iloc[0])"
      ],
      "execution_count": 11,
      "outputs": [
        {
          "output_type": "stream",
          "text": [
            "Unnamed: 0       0\n",
            "C                1\n",
            "B01           1190\n",
            "B02            948\n",
            "B03            899\n",
            "B04            655\n",
            "B05            895\n",
            "B06           1882\n",
            "B07           2392\n",
            "B08           2273\n",
            "B8A            382\n",
            "B09             27\n",
            "B10           1788\n",
            "B11            844\n",
            "B12           2596\n",
            "Name: 0, dtype: int64\n"
          ],
          "name": "stdout"
        }
      ]
    },
    {
      "cell_type": "code",
      "metadata": {
        "id": "EmHdpzTPkOjm",
        "colab": {
          "base_uri": "https://localhost:8080/"
        },
        "outputId": "72990441-fb12-4c03-dbf0-cd66c0302ce3"
      },
      "source": [
        "# Second satellite image\n",
        "with open('PQM_A018880_20201017_60m.csv', 'rb') as fd2:\n",
        "    gzip_fd2 = gzip.GzipFile(fileobj=fd2)\n",
        "    data2 = pd.read_csv(gzip_fd2)\n",
        "\n",
        "# Check print\n",
        "print(data2.iloc[0])"
      ],
      "execution_count": 12,
      "outputs": [
        {
          "output_type": "stream",
          "text": [
            "Unnamed: 0       0\n",
            "C                1\n",
            "B01           1232\n",
            "B02           1010\n",
            "B03           1007\n",
            "B04           1046\n",
            "B05           1363\n",
            "B06           2039\n",
            "B07           2380\n",
            "B08           2198\n",
            "B8A            422\n",
            "B09             17\n",
            "B10           2981\n",
            "B11           2071\n",
            "B12           2677\n",
            "Name: 0, dtype: int64\n"
          ],
          "name": "stdout"
        }
      ]
    },
    {
      "cell_type": "code",
      "metadata": {
        "id": "ObUZ9Q4VkQ_t"
      },
      "source": [
        "# Let's combine the pixels of the separately downloaded training satellite images\n",
        "# NOTE. You could download more images (and thus construct a larger training set) if you wish\n",
        "data = pd.concat([data1, data2], ignore_index=True)"
      ],
      "execution_count": 13,
      "outputs": []
    },
    {
      "cell_type": "code",
      "metadata": {
        "colab": {
          "base_uri": "https://localhost:8080/"
        },
        "id": "WWfdCSoEynIQ",
        "outputId": "b6c6b542-3a1b-4d64-b080-5302a318eea0"
      },
      "source": [
        "xallpd = data.iloc[:, 2:]\n",
        "indpd = data.iloc[:,0]\n",
        "yallpd = data.iloc[:,1]\n",
        "\n",
        "# Check prints\n",
        "print('+------------- BANDS -----------+')\n",
        "print(xallpd.iloc[3])\n",
        "print('+------------- SHAPE -----------+')\n",
        "print(xallpd.shape)\n",
        "print(yallpd.shape)"
      ],
      "execution_count": 18,
      "outputs": [
        {
          "output_type": "stream",
          "text": [
            "+------------- BANDS -----------+\n",
            "B01    1179\n",
            "B02     933\n",
            "B03     854\n",
            "B04     697\n",
            "B05    1010\n",
            "B06    1953\n",
            "B07    2420\n",
            "B08    2144\n",
            "B8A     405\n",
            "B09      23\n",
            "B10    1893\n",
            "B11     931\n",
            "B12    2706\n",
            "Name: 3, dtype: int64\n",
            "+------------- SHAPE -----------+\n",
            "(6697779, 13)\n",
            "(6697779,)\n"
          ],
          "name": "stdout"
        }
      ]
    },
    {
      "cell_type": "code",
      "metadata": {
        "colab": {
          "base_uri": "https://localhost:8080/"
        },
        "id": "tfvXm0KRys1S",
        "outputId": "21e5e999-4104-4ab8-f6b4-2171ce99d96a"
      },
      "source": [
        "xall = pd.DataFrame(xallpd).to_numpy()\n",
        "indall = pd.DataFrame(indpd).to_numpy()\n",
        "yall = pd.DataFrame(yallpd).to_numpy()\n",
        "\n",
        "# Check prints\n",
        "print(\"Let's transform the pandas dataframes into numpy arrays and convert the labels from 1/2 to 0/1.\")\n",
        "\n",
        "print(np.shape(xall))\n",
        "print(np.shape(yall))\n",
        "\n",
        "print(np.count_nonzero(yall==1))\n",
        "print(np.count_nonzero(yall==2))\n",
        "\n",
        "yall[yall==1] = 0\n",
        "yall[yall==2] = 1\n",
        "\n",
        "print(np.count_nonzero(yall==0))\n",
        "print(np.count_nonzero(yall==1))\n",
        "\n",
        "print(\"0 = no cloud pixel, 1 = cloud pixel\")"
      ],
      "execution_count": 22,
      "outputs": [
        {
          "output_type": "stream",
          "text": [
            "Let's transform the pandas dataframes into numpy arrays and convert the labels from 1/2 to 0/1.\n",
            "(6697779, 13)\n",
            "(6697779, 1)\n",
            "5537590\n",
            "1160189\n",
            "5537590\n",
            "1160189\n",
            "0 = no cloud pixel, 1 = cloud pixel\n"
          ],
          "name": "stdout"
        }
      ]
    },
    {
      "cell_type": "code",
      "metadata": {
        "colab": {
          "base_uri": "https://localhost:8080/"
        },
        "id": "12N_xvxBy_Lp",
        "outputId": "f3f3a199-d882-4500-8888-bc36a42ae028"
      },
      "source": [
        "with open('PNM_A027474_20200925T082711_60m.csv', 'rb') as fd3:\n",
        "    gzip_fd3 = gzip.GzipFile(fileobj=fd3)\n",
        "    data3 = pd.read_csv(gzip_fd3)\n",
        "\n",
        "# Check print\n",
        "print(data3.iloc[0])"
      ],
      "execution_count": 23,
      "outputs": [
        {
          "output_type": "stream",
          "text": [
            "Unnamed: 0       0\n",
            "C                1\n",
            "B01           1407\n",
            "B02           1274\n",
            "B03           1299\n",
            "B04           1279\n",
            "B05           1603\n",
            "B06           2809\n",
            "B07           3404\n",
            "B08           3220\n",
            "B8A            466\n",
            "B09             54\n",
            "B10           2940\n",
            "B11           1694\n",
            "B12           3905\n",
            "Name: 0, dtype: int64\n"
          ],
          "name": "stdout"
        }
      ]
    },
    {
      "cell_type": "code",
      "metadata": {
        "colab": {
          "base_uri": "https://localhost:8080/"
        },
        "id": "CifO1yVfzWXR",
        "outputId": "f87003ac-37d4-4177-af8f-a943d3f11ce6"
      },
      "source": [
        "xallpd_test = data3.iloc[:, 2:]\n",
        "indpd_test = data3.iloc[:,0]\n",
        "yallpd_test = data3.iloc[:,1]\n",
        "print('+------------- BANDS -----------+')\n",
        "print(xallpd_test.iloc[3])\n",
        "print(indpd_test.iloc[3])\n",
        "print(yallpd_test.iloc[3])\n",
        "print('+------------- SHAPE -----------+')\n",
        "print(xallpd_test.shape)\n",
        "print(yallpd_test.shape)"
      ],
      "execution_count": 25,
      "outputs": [
        {
          "output_type": "stream",
          "text": [
            "+------------- BANDS -----------+\n",
            "B01    1419\n",
            "B02    1191\n",
            "B03    1212\n",
            "B04    1085\n",
            "B05    1497\n",
            "B06    2671\n",
            "B07    3237\n",
            "B08    3012\n",
            "B8A     471\n",
            "B09      32\n",
            "B10    2776\n",
            "B11    1455\n",
            "B12    3727\n",
            "Name: 3, dtype: int64\n",
            "3\n",
            "1\n",
            "+------------- SHAPE -----------+\n",
            "(3348747, 13)\n",
            "(3348747,)\n"
          ],
          "name": "stdout"
        }
      ]
    },
    {
      "cell_type": "code",
      "metadata": {
        "id": "nEhsc2G0zcqB"
      },
      "source": [
        "xall_test = pd.DataFrame(xallpd_test).to_numpy()\n",
        "indall_test = pd.DataFrame(indpd_test).to_numpy()\n",
        "yall_test = pd.DataFrame(yallpd_test).to_numpy()\n",
        "\n",
        "# Check prints\n",
        "#print(np.shape(xall_test))\n",
        "#print(np.shape(yall_test))\n",
        "\n",
        "#print(np.count_nonzero(yall_test==1))\n",
        "#print(np.count_nonzero(yall_test==2))\n",
        "\n",
        "yall_test[yall_test==1] = 0\n",
        "yall_test[yall_test==2] = 1\n",
        "\n",
        "#print(np.count_nonzero(yall_test==0))\n",
        "#print(np.count_nonzero(yall_test==1))"
      ],
      "execution_count": 26,
      "outputs": []
    },
    {
      "cell_type": "code",
      "metadata": {
        "id": "uK-KU_p1zk55"
      },
      "source": [
        "from sklearn.decomposition import PCA\n",
        "\n",
        "# Compute the 3 first principal components for training data\n",
        "pca = PCA(n_components=3)\n",
        "pcacomp = pca.fit_transform(xall)\n",
        "\n",
        "xall = pcacomp"
      ],
      "execution_count": 27,
      "outputs": []
    },
    {
      "cell_type": "code",
      "metadata": {
        "colab": {
          "base_uri": "https://localhost:8080/",
          "height": 295
        },
        "id": "a4-ul4v8zmax",
        "outputId": "4ba8d26e-aa1d-402c-9955-f5dc3d60c3d3"
      },
      "source": [
        "import seaborn as sns\n",
        "\n",
        "# Create the plot 1 to illustrate the PCA results.\n",
        "color_mapping = {0: sns.xkcd_rgb['bright purple'], 1: sns.xkcd_rgb['lime'], 2: sns.xkcd_rgb['ochre']}\n",
        "colors = list(map(lambda x: color_mapping[x], yall.flatten()))\n",
        "plt.scatter(pcacomp[:,0], pcacomp[:,1], s=20, c=colors)\n",
        "plt.title(\"3 component PCA\")\n",
        "plt.xlabel(\"Pca comp 1\")\n",
        "plt.ylabel(\"Pca comp 2\")\n",
        "plt.show()"
      ],
      "execution_count": 28,
      "outputs": [
        {
          "output_type": "display_data",
          "data": {
            "image/png": "[encoded data removed]",
            "text/plain": [
              "<Figure size 432x288 with 1 Axes>"
            ]
          },
          "metadata": {
            "tags": [],
            "needs_background": "light"
          }
        }
      ]
    },
    {
      "cell_type": "code",
      "metadata": {
        "colab": {
          "base_uri": "https://localhost:8080/",
          "height": 295
        },
        "id": "og3AIVo8zrgd",
        "outputId": "51dedd90-fdf5-47f2-c210-8e709cd1abde"
      },
      "source": [
        "# Create the plot 2 to illustrate the PCA results.\n",
        "color_mapping = {0: sns.xkcd_rgb['bright purple'], 1: sns.xkcd_rgb['lime'], 2: sns.xkcd_rgb['ochre']}\n",
        "colors = list(map(lambda x: color_mapping[x], yall.flatten()))\n",
        "plt.scatter(pcacomp[:,0], pcacomp[:,2], s=20, c=colors)\n",
        "plt.title(\"3 component PCA\")\n",
        "plt.xlabel(\"Pca comp 1\")\n",
        "plt.ylabel(\"Pca comp 3\")\n",
        "plt.show()"
      ],
      "execution_count": 29,
      "outputs": [
        {
          "output_type": "display_data",
          "data": {
            "image/png": "[encoded data removed]",
            "text/plain": [
              "<Figure size 432x288 with 1 Axes>"
            ]
          },
          "metadata": {
            "tags": [],
            "needs_background": "light"
          }
        }
      ]
    },
    {
      "cell_type": "code",
      "metadata": {
        "colab": {
          "base_uri": "https://localhost:8080/",
          "height": 295
        },
        "id": "5lJJkh7Azsyo",
        "outputId": "5ed578b0-b917-4147-f59e-97549a40bec3"
      },
      "source": [
        "# Create the plot 3 to illustrate the PCA results.\n",
        "color_mapping = {0: sns.xkcd_rgb['bright purple'], 1: sns.xkcd_rgb['lime'], 2: sns.xkcd_rgb['ochre']}\n",
        "colors = list(map(lambda x: color_mapping[x], yall.flatten()))\n",
        "plt.scatter(pcacomp[:,1], pcacomp[:,2], s=20, c=colors)\n",
        "plt.title(\"3 component PCA\")\n",
        "plt.xlabel(\"Pca comp 2\")\n",
        "plt.ylabel(\"Pca comp 3\")\n",
        "plt.show()"
      ],
      "execution_count": 30,
      "outputs": [
        {
          "output_type": "display_data",
          "data": {
            "image/png": "[encoded data removed]",
            "text/plain": [
              "<Figure size 432x288 with 1 Axes>"
            ]
          },
          "metadata": {
            "tags": [],
            "needs_background": "light"
          }
        }
      ]
    },
    {
      "cell_type": "code",
      "metadata": {
        "id": "gd1l8HDHztlh"
      },
      "source": [
        "# Compute the 3 first principal components for test data\n",
        "pca_test = PCA(n_components=3)\n",
        "pcacomp_test = pca_test.fit_transform(xall_test)\n",
        "\n",
        "xall_test = pcacomp_test"
      ],
      "execution_count": 31,
      "outputs": []
    },
    {
      "cell_type": "code",
      "metadata": {
        "id": "cdcKE_1YzxXq"
      },
      "source": [
        ""
      ],
      "execution_count": null,
      "outputs": []
    }
  ]
}